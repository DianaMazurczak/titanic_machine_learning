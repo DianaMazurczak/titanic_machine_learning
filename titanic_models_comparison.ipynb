{
 "cells": [
  {
   "cell_type": "code",
   "execution_count": 1,
   "id": "a07bf61b-a97f-41ef-8819-4239bdd2320f",
   "metadata": {},
   "outputs": [],
   "source": [
    "# import needed libraries\n",
    "import pandas as pd\n",
    "import numpy as np\n",
    "import matplotlib.pyplot as plt\n",
    "import seaborn as sns\n",
    "\n",
    "import matplotlib.gridspec as gridspec\n",
    "from sklearn.metrics import roc_curve, roc_auc_score, f1_score\n",
    "\n",
    "from sklearn.model_selection import train_test_split\n",
    "from sklearn.preprocessing import StandardScaler\n",
    "from sklearn.decomposition import PCA\n",
    "from sklearn.metrics import accuracy_score, classification_report, confusion_matrix, roc_curve, auc\n",
    "from sklearn.model_selection import GridSearchCV, KFold, cross_val_score\n",
    "\n",
    "from sklearn.linear_model import LogisticRegression\n",
    "from sklearn.neighbors import KNeighborsClassifier\n",
    "from sklearn.svm import SVC\n",
    "from sklearn import tree\n",
    "from sklearn.ensemble import RandomForestClassifier\n",
    "from sklearn.ensemble import GradientBoostingClassifier\n",
    "\n",
    "def print_confusion_matrix(cm):\n",
    "    plt.figure(figsize=(8, 6))\n",
    "    sns.heatmap(cm, annot=True, fmt='d', cmap='Blues', cbar=False)\n",
    "    plt.xlabel('Predicted Labels')\n",
    "    plt.ylabel('True Labels')\n",
    "    plt.title('Confusion Matrix')\n",
    "    plt.show()\n",
    "    "
   ]
  },
  {
   "cell_type": "markdown",
   "id": "8134410e-ba0b-4507-a8d4-a3df50870239",
   "metadata": {},
   "source": [
    "I will try diffrent techniques to predict if someone could surive or not"
   ]
  },
  {
   "cell_type": "code",
   "execution_count": 2,
   "id": "5c417906-2895-4cca-8bfe-5e0479312440",
   "metadata": {},
   "outputs": [],
   "source": [
    "link_to_data = \"train.csv\"\n",
    "dataset = pd.read_csv(link_to_data)"
   ]
  },
  {
   "cell_type": "markdown",
   "id": "06c4ecf3-f119-45d1-9e5e-f94ec5b66ee8",
   "metadata": {},
   "source": [
    "| Column        | Description                                                                                           |\n",
    "|---------------|-------------------------------------------------------------------------------------------------------|\n",
    "| PassengerId   | Unique ID                                                                                             |\n",
    "| Survived      | Survival status (0 = No, 1 = Yes)                                                                     |\n",
    "| Pclass        | Passenger class (1 = First, 2 = Second, 3 = Third)                                                    |\n",
    "| Name          | Name of passenger                                                                                     |\n",
    "| Sex           | Gender of passenger                                                                                   |\n",
    "| Age           | Age of passenger                                                                                      |\n",
    "| SibSp         | Number of siblings and spouses aboard the Titanic                                                     |\n",
    "| Parch         | Number of children and parents aboard the Titanic                                                     |\n",
    "| Ticket        | Unique ticket ID                                                                                      |\n",
    "| Fare          | Fare price paid (in pounds)                                                                           |\n",
    "| Cabin         | Passenger's cabin number                                                                              |\n",
    "| Embarked      | Port of embarkation (C = Cherbourg, Q = Queenstown, S = Southampton)"
   ]
  },
  {
   "cell_type": "markdown",
   "id": "efa99df9-f155-4eb1-a56e-54145591fe7e",
   "metadata": {},
   "source": [
    "## Date preparation"
   ]
  },
  {
   "cell_type": "code",
   "execution_count": 3,
   "id": "0f56b1d4-e335-4f3f-a875-e255ff1bbcb2",
   "metadata": {},
   "outputs": [
    {
     "name": "stdout",
     "output_type": "stream",
     "text": [
      "PassengerId      0\n",
      "Survived         0\n",
      "Pclass           0\n",
      "Name             0\n",
      "Sex              0\n",
      "Age            177\n",
      "SibSp            0\n",
      "Parch            0\n",
      "Ticket           0\n",
      "Fare             0\n",
      "Cabin          687\n",
      "Embarked         2\n",
      "dtype: int64\n"
     ]
    }
   ],
   "source": [
    "print(dataset.isna().sum())"
   ]
  },
  {
   "cell_type": "markdown",
   "id": "3bf43e0c-3a77-4fe0-89ed-dfa476414880",
   "metadata": {},
   "source": [
    "In 3 of 12 columns there are missing values: Age - 177 values, Cabin - 687 columns, Embarked - 2. The most missing values has Cabin value."
   ]
  },
  {
   "cell_type": "code",
   "execution_count": 4,
   "id": "ad9392f4-cabc-44d3-8746-df4c7b98ae6e",
   "metadata": {},
   "outputs": [
    {
     "name": "stdout",
     "output_type": "stream",
     "text": [
      "[nan 'C85' 'C123' 'E46' 'G6' 'C103' 'D56' 'A6' 'C23 C25 C27' 'B78' 'D33'\n",
      " 'B30' 'C52' 'B28' 'C83' 'F33' 'F G73' 'E31' 'A5' 'D10 D12' 'D26' 'C110'\n",
      " 'B58 B60' 'E101' 'F E69' 'D47' 'B86' 'F2' 'C2' 'E33' 'B19' 'A7' 'C49'\n",
      " 'F4' 'A32' 'B4' 'B80' 'A31' 'D36' 'D15' 'C93' 'C78' 'D35' 'C87' 'B77'\n",
      " 'E67' 'B94' 'C125' 'C99' 'C118' 'D7' 'A19' 'B49' 'D' 'C22 C26' 'C106'\n",
      " 'C65' 'E36' 'C54' 'B57 B59 B63 B66' 'C7' 'E34' 'C32' 'B18' 'C124' 'C91'\n",
      " 'E40' 'T' 'C128' 'D37' 'B35' 'E50' 'C82' 'B96 B98' 'E10' 'E44' 'A34'\n",
      " 'C104' 'C111' 'C92' 'E38' 'D21' 'E12' 'E63' 'A14' 'B37' 'C30' 'D20' 'B79'\n",
      " 'E25' 'D46' 'B73' 'C95' 'B38' 'B39' 'B22' 'C86' 'C70' 'A16' 'C101' 'C68'\n",
      " 'A10' 'E68' 'B41' 'A20' 'D19' 'D50' 'D9' 'A23' 'B50' 'A26' 'D48' 'E58'\n",
      " 'C126' 'B71' 'B51 B53 B55' 'D49' 'B5' 'B20' 'F G63' 'C62 C64' 'E24' 'C90'\n",
      " 'C45' 'E8' 'B101' 'D45' 'C46' 'D30' 'E121' 'D11' 'E77' 'F38' 'B3' 'D6'\n",
      " 'B82 B84' 'D17' 'A36' 'B102' 'B69' 'E49' 'C47' 'D28' 'E17' 'A24' 'C50'\n",
      " 'B42' 'C148']\n"
     ]
    }
   ],
   "source": [
    "print(dataset[\"Cabin\"].unique())"
   ]
  },
  {
   "cell_type": "markdown",
   "id": "726ef79b-1050-4803-9e46-427f625227cb",
   "metadata": {},
   "source": [
    "At the beginning I delete this column from dataset.\n",
    "In case of Age and Fare column I delete only rows with missing values.\n",
    "Now dataset contains 11 columns with 712 rows."
   ]
  },
  {
   "cell_type": "code",
   "execution_count": 5,
   "id": "48ac314d-cbf5-4573-891f-ba078909c7e8",
   "metadata": {
    "scrolled": true
   },
   "outputs": [],
   "source": [
    "dataset.drop(columns=\"Cabin\", inplace=True)\n",
    "dataset.dropna(axis=0, inplace=True)"
   ]
  },
  {
   "cell_type": "markdown",
   "id": "159d0c68-14db-4b58-a895-9f847a0d40d8",
   "metadata": {},
   "source": [
    "Next I will check if categorical column are correct"
   ]
  },
  {
   "cell_type": "code",
   "execution_count": 6,
   "id": "ffdaf7e4-cc8d-40c9-8bc7-e432b771440e",
   "metadata": {},
   "outputs": [
    {
     "data": {
      "text/plain": [
       "PassengerId    712\n",
       "Survived         2\n",
       "Pclass           3\n",
       "Name           712\n",
       "Sex              2\n",
       "Age             88\n",
       "SibSp            6\n",
       "Parch            7\n",
       "Ticket         541\n",
       "Fare           219\n",
       "Embarked         3\n",
       "dtype: int64"
      ]
     },
     "execution_count": 6,
     "metadata": {},
     "output_type": "execute_result"
    }
   ],
   "source": [
    "dataset.nunique()"
   ]
  },
  {
   "cell_type": "markdown",
   "id": "a4e09d75-f286-4cb4-9f5c-ca69e7785d23",
   "metadata": {},
   "source": [
    "Changing categorical columns using One-hot encoding.\n",
    "Use copy to be sure that data in original table will not be modified during working with X and y tables"
   ]
  },
  {
   "cell_type": "code",
   "execution_count": 7,
   "id": "1a47dd54-318f-49b2-a4f2-9c5ec08cfe4a",
   "metadata": {},
   "outputs": [
    {
     "data": {
      "text/html": [
       "<div>\n",
       "<style scoped>\n",
       "    .dataframe tbody tr th:only-of-type {\n",
       "        vertical-align: middle;\n",
       "    }\n",
       "\n",
       "    .dataframe tbody tr th {\n",
       "        vertical-align: top;\n",
       "    }\n",
       "\n",
       "    .dataframe thead th {\n",
       "        text-align: right;\n",
       "    }\n",
       "</style>\n",
       "<table border=\"1\" class=\"dataframe\">\n",
       "  <thead>\n",
       "    <tr style=\"text-align: right;\">\n",
       "      <th></th>\n",
       "      <th>Pclass</th>\n",
       "      <th>Age</th>\n",
       "      <th>SibSp</th>\n",
       "      <th>Parch</th>\n",
       "      <th>Fare</th>\n",
       "      <th>C</th>\n",
       "      <th>Q</th>\n",
       "      <th>S</th>\n",
       "      <th>female</th>\n",
       "      <th>male</th>\n",
       "    </tr>\n",
       "  </thead>\n",
       "  <tbody>\n",
       "    <tr>\n",
       "      <th>0</th>\n",
       "      <td>3</td>\n",
       "      <td>22</td>\n",
       "      <td>1</td>\n",
       "      <td>0</td>\n",
       "      <td>7</td>\n",
       "      <td>0</td>\n",
       "      <td>0</td>\n",
       "      <td>1</td>\n",
       "      <td>0</td>\n",
       "      <td>1</td>\n",
       "    </tr>\n",
       "    <tr>\n",
       "      <th>1</th>\n",
       "      <td>1</td>\n",
       "      <td>38</td>\n",
       "      <td>1</td>\n",
       "      <td>0</td>\n",
       "      <td>71</td>\n",
       "      <td>1</td>\n",
       "      <td>0</td>\n",
       "      <td>0</td>\n",
       "      <td>1</td>\n",
       "      <td>0</td>\n",
       "    </tr>\n",
       "    <tr>\n",
       "      <th>2</th>\n",
       "      <td>3</td>\n",
       "      <td>26</td>\n",
       "      <td>0</td>\n",
       "      <td>0</td>\n",
       "      <td>7</td>\n",
       "      <td>0</td>\n",
       "      <td>0</td>\n",
       "      <td>1</td>\n",
       "      <td>1</td>\n",
       "      <td>0</td>\n",
       "    </tr>\n",
       "    <tr>\n",
       "      <th>3</th>\n",
       "      <td>1</td>\n",
       "      <td>35</td>\n",
       "      <td>1</td>\n",
       "      <td>0</td>\n",
       "      <td>53</td>\n",
       "      <td>0</td>\n",
       "      <td>0</td>\n",
       "      <td>1</td>\n",
       "      <td>1</td>\n",
       "      <td>0</td>\n",
       "    </tr>\n",
       "    <tr>\n",
       "      <th>4</th>\n",
       "      <td>3</td>\n",
       "      <td>35</td>\n",
       "      <td>0</td>\n",
       "      <td>0</td>\n",
       "      <td>8</td>\n",
       "      <td>0</td>\n",
       "      <td>0</td>\n",
       "      <td>1</td>\n",
       "      <td>0</td>\n",
       "      <td>1</td>\n",
       "    </tr>\n",
       "    <tr>\n",
       "      <th>...</th>\n",
       "      <td>...</td>\n",
       "      <td>...</td>\n",
       "      <td>...</td>\n",
       "      <td>...</td>\n",
       "      <td>...</td>\n",
       "      <td>...</td>\n",
       "      <td>...</td>\n",
       "      <td>...</td>\n",
       "      <td>...</td>\n",
       "      <td>...</td>\n",
       "    </tr>\n",
       "    <tr>\n",
       "      <th>885</th>\n",
       "      <td>3</td>\n",
       "      <td>39</td>\n",
       "      <td>0</td>\n",
       "      <td>5</td>\n",
       "      <td>29</td>\n",
       "      <td>0</td>\n",
       "      <td>1</td>\n",
       "      <td>0</td>\n",
       "      <td>1</td>\n",
       "      <td>0</td>\n",
       "    </tr>\n",
       "    <tr>\n",
       "      <th>886</th>\n",
       "      <td>2</td>\n",
       "      <td>27</td>\n",
       "      <td>0</td>\n",
       "      <td>0</td>\n",
       "      <td>13</td>\n",
       "      <td>0</td>\n",
       "      <td>0</td>\n",
       "      <td>1</td>\n",
       "      <td>0</td>\n",
       "      <td>1</td>\n",
       "    </tr>\n",
       "    <tr>\n",
       "      <th>887</th>\n",
       "      <td>1</td>\n",
       "      <td>19</td>\n",
       "      <td>0</td>\n",
       "      <td>0</td>\n",
       "      <td>30</td>\n",
       "      <td>0</td>\n",
       "      <td>0</td>\n",
       "      <td>1</td>\n",
       "      <td>1</td>\n",
       "      <td>0</td>\n",
       "    </tr>\n",
       "    <tr>\n",
       "      <th>889</th>\n",
       "      <td>1</td>\n",
       "      <td>26</td>\n",
       "      <td>0</td>\n",
       "      <td>0</td>\n",
       "      <td>30</td>\n",
       "      <td>1</td>\n",
       "      <td>0</td>\n",
       "      <td>0</td>\n",
       "      <td>0</td>\n",
       "      <td>1</td>\n",
       "    </tr>\n",
       "    <tr>\n",
       "      <th>890</th>\n",
       "      <td>3</td>\n",
       "      <td>32</td>\n",
       "      <td>0</td>\n",
       "      <td>0</td>\n",
       "      <td>7</td>\n",
       "      <td>0</td>\n",
       "      <td>1</td>\n",
       "      <td>0</td>\n",
       "      <td>0</td>\n",
       "      <td>1</td>\n",
       "    </tr>\n",
       "  </tbody>\n",
       "</table>\n",
       "<p>712 rows × 10 columns</p>\n",
       "</div>"
      ],
      "text/plain": [
       "     Pclass  Age  SibSp  Parch  Fare  C  Q  S  female  male\n",
       "0         3   22      1      0     7  0  0  1       0     1\n",
       "1         1   38      1      0    71  1  0  0       1     0\n",
       "2         3   26      0      0     7  0  0  1       1     0\n",
       "3         1   35      1      0    53  0  0  1       1     0\n",
       "4         3   35      0      0     8  0  0  1       0     1\n",
       "..      ...  ...    ...    ...   ... .. .. ..     ...   ...\n",
       "885       3   39      0      5    29  0  1  0       1     0\n",
       "886       2   27      0      0    13  0  0  1       0     1\n",
       "887       1   19      0      0    30  0  0  1       1     0\n",
       "889       1   26      0      0    30  1  0  0       0     1\n",
       "890       3   32      0      0     7  0  1  0       0     1\n",
       "\n",
       "[712 rows x 10 columns]"
      ]
     },
     "execution_count": 7,
     "metadata": {},
     "output_type": "execute_result"
    }
   ],
   "source": [
    "y = dataset['Survived'].copy()\n",
    "X = dataset[['Pclass', 'Age', 'SibSp', 'Parch', 'Fare']].copy()\n",
    "dummies_s = pd.get_dummies(dataset['Sex'])\n",
    "dummies_e = pd.get_dummies(dataset['Embarked'])\n",
    "X = pd.concat([X, dummies_e, dummies_s], axis=1)\n",
    "X = X.astype(int)\n",
    "X"
   ]
  },
  {
   "cell_type": "markdown",
   "id": "393ea301-29ab-4584-934a-bcae39aac4a7",
   "metadata": {},
   "source": [
    "Splitting the data into training and test set"
   ]
  },
  {
   "cell_type": "code",
   "execution_count": 8,
   "id": "c00806c2-1859-48e1-a3dd-6cd35a3d5970",
   "metadata": {},
   "outputs": [],
   "source": [
    "X_train, X_test, y_train, y_test = train_test_split(X, y, test_size=0.3, stratify=y, random_state=42)"
   ]
  },
  {
   "cell_type": "markdown",
   "id": "1b5d052e-dd49-4698-b0e9-a3dac8799a84",
   "metadata": {},
   "source": [
    "Scaling the data that evey feature have mean 0 and standard deviation 1.\n",
    "Scaling after splitting the data prevents information leakage into model."
   ]
  },
  {
   "cell_type": "code",
   "execution_count": 9,
   "id": "ab73d71b-9b96-4796-b53a-0b5c24fdced5",
   "metadata": {},
   "outputs": [],
   "source": [
    "scaler = StandardScaler()\n",
    "X_train = scaler.fit_transform(X_train)\n",
    "X_test = scaler.transform(X_test)"
   ]
  },
  {
   "cell_type": "markdown",
   "id": "5d004e1e-78c2-4a57-9075-052a90c2dc30",
   "metadata": {},
   "source": [
    "## Logistic regression"
   ]
  },
  {
   "cell_type": "code",
   "execution_count": 10,
   "id": "01d15c5a-0a3d-40ea-bc5a-827936b754ec",
   "metadata": {},
   "outputs": [
    {
     "name": "stdout",
     "output_type": "stream",
     "text": [
      "0.780373831775701\n"
     ]
    },
    {
     "data": {
      "image/png": "[encoded data removed]",
      "text/plain": [
       "<Figure size 800x600 with 1 Axes>"
      ]
     },
     "metadata": {},
     "output_type": "display_data"
    }
   ],
   "source": [
    "lr = LogisticRegression(random_state=41)\n",
    "lr.fit(X_train, y_train)\n",
    "y_predict = lr.predict(X_test)\n",
    "cm_lr = confusion_matrix(y_test, y_predict)\n",
    "print(accuracy_score(y_test, y_predict))\n",
    "# print(lr.score(X_test, y_test))\n",
    "print_confusion_matrix(cm_lr)"
   ]
  },
  {
   "cell_type": "code",
   "execution_count": 11,
   "id": "7238d664-aadf-417a-b1c2-8ae6a2518553",
   "metadata": {},
   "outputs": [
    {
     "data": {
      "text/plain": [
       "<Axes: >"
      ]
     },
     "execution_count": 11,
     "metadata": {},
     "output_type": "execute_result"
    },
    {
     "data": {
      "image/png": "[encoded data removed]",
      "text/plain": [
       "<Figure size 640x480 with 2 Axes>"
      ]
     },
     "metadata": {},
     "output_type": "display_data"
    }
   ],
   "source": [
    "# pd.DataFrame(X_train).corrwith(pd.Series(y_train))\n",
    "training_set = np.c_[y_train, X_train]\n",
    "training_set = pd.DataFrame(training_set, \n",
    "                            columns=['Survived', 'Pclass', 'Age', 'SibSp', 'Parch', 'Fare', \"C\", \"Q\", \"S\", \"Female\", \"Male\"])\n",
    "corr_matrix = training_set.corr()\n",
    "sns.heatmap(corr_matrix, annot=True)"
   ]
  },
  {
   "cell_type": "markdown",
   "id": "f374459a-84df-48e2-a678-dd5686dd03e9",
   "metadata": {},
   "source": [
    "Looking at the correlation matrix, which is printed above, I will look how Logistic Regression work, when I give it only two features, with the biggest correlation(Female and Pclass). Beyond that looking at the correlation I see that variables, apart from the created gender and port variables, are not correlated with each other above 0.60."
   ]
  },
  {
   "cell_type": "code",
   "execution_count": 12,
   "id": "0519a99b-349b-473d-b5aa-184243cb01b8",
   "metadata": {},
   "outputs": [
    {
     "name": "stdout",
     "output_type": "stream",
     "text": [
      "0.8142818354602227\n"
     ]
    },
    {
     "data": {
      "image/png": "[encoded data removed]",
      "text/plain": [
       "<Figure size 800x600 with 1 Axes>"
      ]
     },
     "metadata": {},
     "output_type": "display_data"
    }
   ],
   "source": [
    "X2 = X[['female', 'Pclass']].copy()\n",
    "X_train2, X_test2, y_train2, y_test2 = train_test_split(X2, y, test_size=0.3, stratify=y, random_state=42)\n",
    "\n",
    "X_train2 = scaler.fit_transform(X_train2)\n",
    "X_test2 = scaler.transform(X_test2)\n",
    "\n",
    "lr2 = LogisticRegression(random_state=41)\n",
    "lr2.fit(X_train2, y_train2)\n",
    "y_predict2 = lr2.predict(X_test2)\n",
    "y_scores2 = lr2.predict_proba(X_test2)\n",
    "\n",
    "print(roc_auc_score(y_test, y_scores2[:, 1]))\n",
    "cm_lr = confusion_matrix(y_test2, y_predict2)\n",
    "print_confusion_matrix(cm_lr)"
   ]
  },
  {
   "cell_type": "code",
   "execution_count": null,
   "id": "4a77b113-2b60-4bf4-b8b7-a2b5d2c1880d",
   "metadata": {},
   "outputs": [],
   "source": []
  },
  {
   "cell_type": "markdown",
   "id": "1d869f5c-31b3-4020-b14d-7029b94b04d6",
   "metadata": {},
   "source": [
    "Model built on this 2 features has better accuracy and it is equal to 81%, while it was 78% for the first model."
   ]
  },
  {
   "cell_type": "code",
   "execution_count": 13,
   "id": "29280ebc-4da7-4835-8904-aed19e14cd21",
   "metadata": {},
   "outputs": [],
   "source": [
    "# data for roc curve at the end\n",
    "clf_lr = LogisticRegression(random_state=41)\n",
    "clf_lr.fit(X_train,y_train)\n",
    "y_predict_lr = clf_lr.predict(X_test)\n",
    "y_scores_lr = clf_lr.predict_proba(X_test)\n",
    "auc_lr = roc_auc_score(y_test, y_scores_lr[:, 1])\n",
    "fpr_lr, tpr_lr, threshold_lr = roc_curve(y_test, y_scores_lr[:, 1])\n",
    "f1_lr = f1_score(y_test, y_predict_lr)"
   ]
  },
  {
   "cell_type": "markdown",
   "id": "0cb792ca-5333-4443-a4ce-3ba0660ae691",
   "metadata": {},
   "source": [
    "## KNN"
   ]
  },
  {
   "cell_type": "code",
   "execution_count": 14,
   "id": "756bc614-46c0-486a-82a6-9394dd017a34",
   "metadata": {},
   "outputs": [
    {
     "name": "stdout",
     "output_type": "stream",
     "text": [
      "0.780373831775701\n"
     ]
    }
   ],
   "source": [
    "knn = KNeighborsClassifier(n_neighbors=3)\n",
    "knn.fit(X_train, y_train)\n",
    "y_predict_knn = knn.predict(X_test)\n",
    "print(accuracy_score(y_test, y_predict))"
   ]
  },
  {
   "cell_type": "markdown",
   "id": "6d76757c-208b-42ae-a161-50e74f22488e",
   "metadata": {},
   "source": [
    "The k-nearest neighbors (KNN) classifier achieved an accuracy of 78%, which is a strong result. The confusion matrix below confirms that the model is performing well, showing a good balance in classification. Now, I'll use GridSearchCV to find the optimal value for the number of neighbors (n_neighbors) to improve the model further."
   ]
  },
  {
   "cell_type": "code",
   "execution_count": 15,
   "id": "48a985c2-a6f0-46b0-9831-50813664245e",
   "metadata": {},
   "outputs": [
    {
     "data": {
      "image/png": "[encoded data removed]",
      "text/plain": [
       "<Figure size 800x600 with 1 Axes>"
      ]
     },
     "metadata": {},
     "output_type": "display_data"
    }
   ],
   "source": [
    "print_confusion_matrix(confusion_matrix(y_test, y_predict_knn))"
   ]
  },
  {
   "cell_type": "code",
   "execution_count": 16,
   "id": "7c73d819-1279-4913-bc3c-54f041597abe",
   "metadata": {},
   "outputs": [
    {
     "name": "stderr",
     "output_type": "stream",
     "text": [
      "C:\\Users\\diana\\PycharmProjects\\titanic\\.venv\\Lib\\site-packages\\numpy\\ma\\core.py:2881: RuntimeWarning: invalid value encountered in cast\n",
      "  _data = np.array(data, dtype=dtype, copy=copy,\n"
     ]
    },
    {
     "data": {
      "text/html": [
       "<style>#sk-container-id-1 {\n",
       "  /* Definition of color scheme common for light and dark mode */\n",
       "  --sklearn-color-text: black;\n",
       "  --sklearn-color-line: gray;\n",
       "  /* Definition of color scheme for unfitted estimators */\n",
       "  --sklearn-color-unfitted-level-0: #fff5e6;\n",
       "  --sklearn-color-unfitted-level-1: #f6e4d2;\n",
       "  --sklearn-color-unfitted-level-2: #ffe0b3;\n",
       "  --sklearn-color-unfitted-level-3: chocolate;\n",
       "  /* Definition of color scheme for fitted estimators */\n",
       "  --sklearn-color-fitted-level-0: #f0f8ff;\n",
       "  --sklearn-color-fitted-level-1: #d4ebff;\n",
       "  --sklearn-color-fitted-level-2: #b3dbfd;\n",
       "  --sklearn-color-fitted-level-3: cornflowerblue;\n",
       "\n",
       "  /* Specific color for light theme */\n",
       "  --sklearn-color-text-on-default-background: var(--sg-text-color, var(--theme-code-foreground, var(--jp-content-font-color1, black)));\n",
       "  --sklearn-color-background: var(--sg-background-color, var(--theme-background, var(--jp-layout-color0, white)));\n",
       "  --sklearn-color-border-box: var(--sg-text-color, var(--theme-code-foreground, var(--jp-content-font-color1, black)));\n",
       "  --sklearn-color-icon: #696969;\n",
       "\n",
       "  @media (prefers-color-scheme: dark) {\n",
       "    /* Redefinition of color scheme for dark theme */\n",
       "    --sklearn-color-text-on-default-background: var(--sg-text-color, var(--theme-code-foreground, var(--jp-content-font-color1, white)));\n",
       "    --sklearn-color-background: var(--sg-background-color, var(--theme-background, var(--jp-layout-color0, #111)));\n",
       "    --sklearn-color-border-box: var(--sg-text-color, var(--theme-code-foreground, var(--jp-content-font-color1, white)));\n",
       "    --sklearn-color-icon: #878787;\n",
       "  }\n",
       "}\n",
       "\n",
       "#sk-container-id-1 {\n",
       "  color: var(--sklearn-color-text);\n",
       "}\n",
       "\n",
       "#sk-container-id-1 pre {\n",
       "  padding: 0;\n",
       "}\n",
       "\n",
       "#sk-container-id-1 input.sk-hidden--visually {\n",
       "  border: 0;\n",
       "  clip: rect(1px 1px 1px 1px);\n",
       "  clip: rect(1px, 1px, 1px, 1px);\n",
       "  height: 1px;\n",
       "  margin: -1px;\n",
       "  overflow: hidden;\n",
       "  padding: 0;\n",
       "  position: absolute;\n",
       "  width: 1px;\n",
       "}\n",
       "\n",
       "#sk-container-id-1 div.sk-dashed-wrapped {\n",
       "  border: 1px dashed var(--sklearn-color-line);\n",
       "  margin: 0 0.4em 0.5em 0.4em;\n",
       "  box-sizing: border-box;\n",
       "  padding-bottom: 0.4em;\n",
       "  background-color: var(--sklearn-color-background);\n",
       "}\n",
       "\n",
       "#sk-container-id-1 div.sk-container {\n",
       "  /* jupyter's `normalize.less` sets `[hidden] { display: none; }`\n",
       "     but bootstrap.min.css set `[hidden] { display: none !important; }`\n",
       "     so we also need the `!important` here to be able to override the\n",
       "     default hidden behavior on the sphinx rendered scikit-learn.org.\n",
       "     See: https://github.com/scikit-learn/scikit-learn/issues/21755 */\n",
       "  display: inline-block !important;\n",
       "  position: relative;\n",
       "}\n",
       "\n",
       "#sk-container-id-1 div.sk-text-repr-fallback {\n",
       "  display: none;\n",
       "}\n",
       "\n",
       "div.sk-parallel-item,\n",
       "div.sk-serial,\n",
       "div.sk-item {\n",
       "  /* draw centered vertical line to link estimators */\n",
       "  background-image: linear-gradient(var(--sklearn-color-text-on-default-background), var(--sklearn-color-text-on-default-background));\n",
       "  background-size: 2px 100%;\n",
       "  background-repeat: no-repeat;\n",
       "  background-position: center center;\n",
       "}\n",
       "\n",
       "/* Parallel-specific style estimator block */\n",
       "\n",
       "#sk-container-id-1 div.sk-parallel-item::after {\n",
       "  content: \"\";\n",
       "  width: 100%;\n",
       "  border-bottom: 2px solid var(--sklearn-color-text-on-default-background);\n",
       "  flex-grow: 1;\n",
       "}\n",
       "\n",
       "#sk-container-id-1 div.sk-parallel {\n",
       "  display: flex;\n",
       "  align-items: stretch;\n",
       "  justify-content: center;\n",
       "  background-color: var(--sklearn-color-background);\n",
       "  position: relative;\n",
       "}\n",
       "\n",
       "#sk-container-id-1 div.sk-parallel-item {\n",
       "  display: flex;\n",
       "  flex-direction: column;\n",
       "}\n",
       "\n",
       "#sk-container-id-1 div.sk-parallel-item:first-child::after {\n",
       "  align-self: flex-end;\n",
       "  width: 50%;\n",
       "}\n",
       "\n",
       "#sk-container-id-1 div.sk-parallel-item:last-child::after {\n",
       "  align-self: flex-start;\n",
       "  width: 50%;\n",
       "}\n",
       "\n",
       "#sk-container-id-1 div.sk-parallel-item:only-child::after {\n",
       "  width: 0;\n",
       "}\n",
       "\n",
       "/* Serial-specific style estimator block */\n",
       "\n",
       "#sk-container-id-1 div.sk-serial {\n",
       "  display: flex;\n",
       "  flex-direction: column;\n",
       "  align-items: center;\n",
       "  background-color: var(--sklearn-color-background);\n",
       "  padding-right: 1em;\n",
       "  padding-left: 1em;\n",
       "}\n",
       "\n",
       "\n",
       "/* Toggleable style: style used for estimator/Pipeline/ColumnTransformer box that is\n",
       "clickable and can be expanded/collapsed.\n",
       "- Pipeline and ColumnTransformer use this feature and define the default style\n",
       "- Estimators will overwrite some part of the style using the `sk-estimator` class\n",
       "*/\n",
       "\n",
       "/* Pipeline and ColumnTransformer style (default) */\n",
       "\n",
       "#sk-container-id-1 div.sk-toggleable {\n",
       "  /* Default theme specific background. It is overwritten whether we have a\n",
       "  specific estimator or a Pipeline/ColumnTransformer */\n",
       "  background-color: var(--sklearn-color-background);\n",
       "}\n",
       "\n",
       "/* Toggleable label */\n",
       "#sk-container-id-1 label.sk-toggleable__label {\n",
       "  cursor: pointer;\n",
       "  display: block;\n",
       "  width: 100%;\n",
       "  margin-bottom: 0;\n",
       "  padding: 0.5em;\n",
       "  box-sizing: border-box;\n",
       "  text-align: center;\n",
       "}\n",
       "\n",
       "#sk-container-id-1 label.sk-toggleable__label-arrow:before {\n",
       "  /* Arrow on the left of the label */\n",
       "  content: \"▸\";\n",
       "  float: left;\n",
       "  margin-right: 0.25em;\n",
       "  color: var(--sklearn-color-icon);\n",
       "}\n",
       "\n",
       "#sk-container-id-1 label.sk-toggleable__label-arrow:hover:before {\n",
       "  color: var(--sklearn-color-text);\n",
       "}\n",
       "\n",
       "/* Toggleable content - dropdown */\n",
       "\n",
       "#sk-container-id-1 div.sk-toggleable__content {\n",
       "  max-height: 0;\n",
       "  max-width: 0;\n",
       "  overflow: hidden;\n",
       "  text-align: left;\n",
       "  /* unfitted */\n",
       "  background-color: var(--sklearn-color-unfitted-level-0);\n",
       "}\n",
       "\n",
       "#sk-container-id-1 div.sk-toggleable__content.fitted {\n",
       "  /* fitted */\n",
       "  background-color: var(--sklearn-color-fitted-level-0);\n",
       "}\n",
       "\n",
       "#sk-container-id-1 div.sk-toggleable__content pre {\n",
       "  margin: 0.2em;\n",
       "  border-radius: 0.25em;\n",
       "  color: var(--sklearn-color-text);\n",
       "  /* unfitted */\n",
       "  background-color: var(--sklearn-color-unfitted-level-0);\n",
       "}\n",
       "\n",
       "#sk-container-id-1 div.sk-toggleable__content.fitted pre {\n",
       "  /* unfitted */\n",
       "  background-color: var(--sklearn-color-fitted-level-0);\n",
       "}\n",
       "\n",
       "#sk-container-id-1 input.sk-toggleable__control:checked~div.sk-toggleable__content {\n",
       "  /* Expand drop-down */\n",
       "  max-height: 200px;\n",
       "  max-width: 100%;\n",
       "  overflow: auto;\n",
       "}\n",
       "\n",
       "#sk-container-id-1 input.sk-toggleable__control:checked~label.sk-toggleable__label-arrow:before {\n",
       "  content: \"▾\";\n",
       "}\n",
       "\n",
       "/* Pipeline/ColumnTransformer-specific style */\n",
       "\n",
       "#sk-container-id-1 div.sk-label input.sk-toggleable__control:checked~label.sk-toggleable__label {\n",
       "  color: var(--sklearn-color-text);\n",
       "  background-color: var(--sklearn-color-unfitted-level-2);\n",
       "}\n",
       "\n",
       "#sk-container-id-1 div.sk-label.fitted input.sk-toggleable__control:checked~label.sk-toggleable__label {\n",
       "  background-color: var(--sklearn-color-fitted-level-2);\n",
       "}\n",
       "\n",
       "/* Estimator-specific style */\n",
       "\n",
       "/* Colorize estimator box */\n",
       "#sk-container-id-1 div.sk-estimator input.sk-toggleable__control:checked~label.sk-toggleable__label {\n",
       "  /* unfitted */\n",
       "  background-color: var(--sklearn-color-unfitted-level-2);\n",
       "}\n",
       "\n",
       "#sk-container-id-1 div.sk-estimator.fitted input.sk-toggleable__control:checked~label.sk-toggleable__label {\n",
       "  /* fitted */\n",
       "  background-color: var(--sklearn-color-fitted-level-2);\n",
       "}\n",
       "\n",
       "#sk-container-id-1 div.sk-label label.sk-toggleable__label,\n",
       "#sk-container-id-1 div.sk-label label {\n",
       "  /* The background is the default theme color */\n",
       "  color: var(--sklearn-color-text-on-default-background);\n",
       "}\n",
       "\n",
       "/* On hover, darken the color of the background */\n",
       "#sk-container-id-1 div.sk-label:hover label.sk-toggleable__label {\n",
       "  color: var(--sklearn-color-text);\n",
       "  background-color: var(--sklearn-color-unfitted-level-2);\n",
       "}\n",
       "\n",
       "/* Label box, darken color on hover, fitted */\n",
       "#sk-container-id-1 div.sk-label.fitted:hover label.sk-toggleable__label.fitted {\n",
       "  color: var(--sklearn-color-text);\n",
       "  background-color: var(--sklearn-color-fitted-level-2);\n",
       "}\n",
       "\n",
       "/* Estimator label */\n",
       "\n",
       "#sk-container-id-1 div.sk-label label {\n",
       "  font-family: monospace;\n",
       "  font-weight: bold;\n",
       "  display: inline-block;\n",
       "  line-height: 1.2em;\n",
       "}\n",
       "\n",
       "#sk-container-id-1 div.sk-label-container {\n",
       "  text-align: center;\n",
       "}\n",
       "\n",
       "/* Estimator-specific */\n",
       "#sk-container-id-1 div.sk-estimator {\n",
       "  font-family: monospace;\n",
       "  border: 1px dotted var(--sklearn-color-border-box);\n",
       "  border-radius: 0.25em;\n",
       "  box-sizing: border-box;\n",
       "  margin-bottom: 0.5em;\n",
       "  /* unfitted */\n",
       "  background-color: var(--sklearn-color-unfitted-level-0);\n",
       "}\n",
       "\n",
       "#sk-container-id-1 div.sk-estimator.fitted {\n",
       "  /* fitted */\n",
       "  background-color: var(--sklearn-color-fitted-level-0);\n",
       "}\n",
       "\n",
       "/* on hover */\n",
       "#sk-container-id-1 div.sk-estimator:hover {\n",
       "  /* unfitted */\n",
       "  background-color: var(--sklearn-color-unfitted-level-2);\n",
       "}\n",
       "\n",
       "#sk-container-id-1 div.sk-estimator.fitted:hover {\n",
       "  /* fitted */\n",
       "  background-color: var(--sklearn-color-fitted-level-2);\n",
       "}\n",
       "\n",
       "/* Specification for estimator info (e.g. \"i\" and \"?\") */\n",
       "\n",
       "/* Common style for \"i\" and \"?\" */\n",
       "\n",
       ".sk-estimator-doc-link,\n",
       "a:link.sk-estimator-doc-link,\n",
       "a:visited.sk-estimator-doc-link {\n",
       "  float: right;\n",
       "  font-size: smaller;\n",
       "  line-height: 1em;\n",
       "  font-family: monospace;\n",
       "  background-color: var(--sklearn-color-background);\n",
       "  border-radius: 1em;\n",
       "  height: 1em;\n",
       "  width: 1em;\n",
       "  text-decoration: none !important;\n",
       "  margin-left: 1ex;\n",
       "  /* unfitted */\n",
       "  border: var(--sklearn-color-unfitted-level-1) 1pt solid;\n",
       "  color: var(--sklearn-color-unfitted-level-1);\n",
       "}\n",
       "\n",
       ".sk-estimator-doc-link.fitted,\n",
       "a:link.sk-estimator-doc-link.fitted,\n",
       "a:visited.sk-estimator-doc-link.fitted {\n",
       "  /* fitted */\n",
       "  border: var(--sklearn-color-fitted-level-1) 1pt solid;\n",
       "  color: var(--sklearn-color-fitted-level-1);\n",
       "}\n",
       "\n",
       "/* On hover */\n",
       "div.sk-estimator:hover .sk-estimator-doc-link:hover,\n",
       ".sk-estimator-doc-link:hover,\n",
       "div.sk-label-container:hover .sk-estimator-doc-link:hover,\n",
       ".sk-estimator-doc-link:hover {\n",
       "  /* unfitted */\n",
       "  background-color: var(--sklearn-color-unfitted-level-3);\n",
       "  color: var(--sklearn-color-background);\n",
       "  text-decoration: none;\n",
       "}\n",
       "\n",
       "div.sk-estimator.fitted:hover .sk-estimator-doc-link.fitted:hover,\n",
       ".sk-estimator-doc-link.fitted:hover,\n",
       "div.sk-label-container:hover .sk-estimator-doc-link.fitted:hover,\n",
       ".sk-estimator-doc-link.fitted:hover {\n",
       "  /* fitted */\n",
       "  background-color: var(--sklearn-color-fitted-level-3);\n",
       "  color: var(--sklearn-color-background);\n",
       "  text-decoration: none;\n",
       "}\n",
       "\n",
       "/* Span, style for the box shown on hovering the info icon */\n",
       ".sk-estimator-doc-link span {\n",
       "  display: none;\n",
       "  z-index: 9999;\n",
       "  position: relative;\n",
       "  font-weight: normal;\n",
       "  right: .2ex;\n",
       "  padding: .5ex;\n",
       "  margin: .5ex;\n",
       "  width: min-content;\n",
       "  min-width: 20ex;\n",
       "  max-width: 50ex;\n",
       "  color: var(--sklearn-color-text);\n",
       "  box-shadow: 2pt 2pt 4pt #999;\n",
       "  /* unfitted */\n",
       "  background: var(--sklearn-color-unfitted-level-0);\n",
       "  border: .5pt solid var(--sklearn-color-unfitted-level-3);\n",
       "}\n",
       "\n",
       ".sk-estimator-doc-link.fitted span {\n",
       "  /* fitted */\n",
       "  background: var(--sklearn-color-fitted-level-0);\n",
       "  border: var(--sklearn-color-fitted-level-3);\n",
       "}\n",
       "\n",
       ".sk-estimator-doc-link:hover span {\n",
       "  display: block;\n",
       "}\n",
       "\n",
       "/* \"?\"-specific style due to the `<a>` HTML tag */\n",
       "\n",
       "#sk-container-id-1 a.estimator_doc_link {\n",
       "  float: right;\n",
       "  font-size: 1rem;\n",
       "  line-height: 1em;\n",
       "  font-family: monospace;\n",
       "  background-color: var(--sklearn-color-background);\n",
       "  border-radius: 1rem;\n",
       "  height: 1rem;\n",
       "  width: 1rem;\n",
       "  text-decoration: none;\n",
       "  /* unfitted */\n",
       "  color: var(--sklearn-color-unfitted-level-1);\n",
       "  border: var(--sklearn-color-unfitted-level-1) 1pt solid;\n",
       "}\n",
       "\n",
       "#sk-container-id-1 a.estimator_doc_link.fitted {\n",
       "  /* fitted */\n",
       "  border: var(--sklearn-color-fitted-level-1) 1pt solid;\n",
       "  color: var(--sklearn-color-fitted-level-1);\n",
       "}\n",
       "\n",
       "/* On hover */\n",
       "#sk-container-id-1 a.estimator_doc_link:hover {\n",
       "  /* unfitted */\n",
       "  background-color: var(--sklearn-color-unfitted-level-3);\n",
       "  color: var(--sklearn-color-background);\n",
       "  text-decoration: none;\n",
       "}\n",
       "\n",
       "#sk-container-id-1 a.estimator_doc_link.fitted:hover {\n",
       "  /* fitted */\n",
       "  background-color: var(--sklearn-color-fitted-level-3);\n",
       "}\n",
       "</style><div id=\"sk-container-id-1\" class=\"sk-top-container\"><div class=\"sk-text-repr-fallback\"><pre>GridSearchCV(cv=5, estimator=KNeighborsClassifier(),\n",
       "             param_grid={&#x27;n_neighbors&#x27;: [1, 2, 3, 4, 5, 6, 7, 8, 9, 10, 11, 12,\n",
       "                                         13, 14, 15]})</pre><b>In a Jupyter environment, please rerun this cell to show the HTML representation or trust the notebook. <br />On GitHub, the HTML representation is unable to render, please try loading this page with nbviewer.org.</b></div><div class=\"sk-container\" hidden><div class=\"sk-item sk-dashed-wrapped\"><div class=\"sk-label-container\"><div class=\"sk-label fitted sk-toggleable\"><input class=\"sk-toggleable__control sk-hidden--visually\" id=\"sk-estimator-id-1\" type=\"checkbox\" ><label for=\"sk-estimator-id-1\" class=\"sk-toggleable__label fitted sk-toggleable__label-arrow fitted\">&nbsp;&nbsp;GridSearchCV<a class=\"sk-estimator-doc-link fitted\" rel=\"noreferrer\" target=\"_blank\" href=\"https://scikit-learn.org/1.5/modules/generated/sklearn.model_selection.GridSearchCV.html\">?<span>Documentation for GridSearchCV</span></a><span class=\"sk-estimator-doc-link fitted\">i<span>Fitted</span></span></label><div class=\"sk-toggleable__content fitted\"><pre>GridSearchCV(cv=5, estimator=KNeighborsClassifier(),\n",
       "             param_grid={&#x27;n_neighbors&#x27;: [1, 2, 3, 4, 5, 6, 7, 8, 9, 10, 11, 12,\n",
       "                                         13, 14, 15]})</pre></div> </div></div><div class=\"sk-parallel\"><div class=\"sk-parallel-item\"><div class=\"sk-item\"><div class=\"sk-label-container\"><div class=\"sk-label fitted sk-toggleable\"><input class=\"sk-toggleable__control sk-hidden--visually\" id=\"sk-estimator-id-2\" type=\"checkbox\" ><label for=\"sk-estimator-id-2\" class=\"sk-toggleable__label fitted sk-toggleable__label-arrow fitted\">best_estimator_: KNeighborsClassifier</label><div class=\"sk-toggleable__content fitted\"><pre>KNeighborsClassifier(n_neighbors=6)</pre></div> </div></div><div class=\"sk-serial\"><div class=\"sk-item\"><div class=\"sk-estimator fitted sk-toggleable\"><input class=\"sk-toggleable__control sk-hidden--visually\" id=\"sk-estimator-id-3\" type=\"checkbox\" ><label for=\"sk-estimator-id-3\" class=\"sk-toggleable__label fitted sk-toggleable__label-arrow fitted\">&nbsp;KNeighborsClassifier<a class=\"sk-estimator-doc-link fitted\" rel=\"noreferrer\" target=\"_blank\" href=\"https://scikit-learn.org/1.5/modules/generated/sklearn.neighbors.KNeighborsClassifier.html\">?<span>Documentation for KNeighborsClassifier</span></a></label><div class=\"sk-toggleable__content fitted\"><pre>KNeighborsClassifier(n_neighbors=6)</pre></div> </div></div></div></div></div></div></div></div></div>"
      ],
      "text/plain": [
       "GridSearchCV(cv=5, estimator=KNeighborsClassifier(),\n",
       "             param_grid={'n_neighbors': [1, 2, 3, 4, 5, 6, 7, 8, 9, 10, 11, 12,\n",
       "                                         13, 14, 15]})"
      ]
     },
     "execution_count": 16,
     "metadata": {},
     "output_type": "execute_result"
    }
   ],
   "source": [
    "n_neighbors = list(range(1, 16))\n",
    "knn_parameters = {\n",
    "    'n_neighbors': n_neighbors\n",
    "}\n",
    "best_param_knn = GridSearchCV(KNeighborsClassifier(), knn_parameters, cv=5)\n",
    "best_param_knn.fit(X_train, y_train)"
   ]
  },
  {
   "cell_type": "code",
   "execution_count": 17,
   "id": "0db24d03-5146-4000-b896-4dd5c8bdb709",
   "metadata": {},
   "outputs": [
    {
     "data": {
      "text/plain": [
       "(1.0, 15.0)"
      ]
     },
     "execution_count": 17,
     "metadata": {},
     "output_type": "execute_result"
    },
    {
     "data": {
      "image/png": "[encoded data removed]",
      "text/plain": [
       "<Figure size 640x480 with 1 Axes>"
      ]
     },
     "metadata": {},
     "output_type": "display_data"
    }
   ],
   "source": [
    "knn_scores = best_param_knn.cv_results_[\"mean_test_score\"]\n",
    "knn_scores_std = best_param_knn.cv_results_[\"std_test_score\"]\n",
    "\n",
    "plt.plot(n_neighbors, knn_scores)\n",
    "\n",
    "std_error = knn_scores_std / np.sqrt(5)\n",
    "\n",
    "# alpha=0.2 controls the translucency of the fill color\n",
    "plt.fill_between(n_neighbors, knn_scores + std_error, knn_scores - std_error, alpha=0.2)\n",
    "\n",
    "plt.ylabel(\"CV score\")\n",
    "plt.xlabel(\"n_neighbor\")\n",
    "plt.axhline(np.max(knn_scores), color='k')\n",
    "plt.axvline(6, color='k')\n",
    "plt.xticks(n_neighbors)\n",
    "plt.xlim([n_neighbors[0], n_neighbors[-1]])"
   ]
  },
  {
   "cell_type": "code",
   "execution_count": 18,
   "id": "4aa1ba53-63a2-45a0-9c4d-95a6ab9a16aa",
   "metadata": {
    "scrolled": true
   },
   "outputs": [
    {
     "name": "stdout",
     "output_type": "stream",
     "text": [
      "0.7990654205607477\n"
     ]
    },
    {
     "data": {
      "text/plain": [
       "Text(0.5, 1.0, 'ROC Curve for KNN(k = 6)')"
      ]
     },
     "execution_count": 18,
     "metadata": {},
     "output_type": "execute_result"
    },
    {
     "data": {
      "image/png": "[encoded data removed]",
      "text/plain": [
       "<Figure size 640x480 with 1 Axes>"
      ]
     },
     "metadata": {},
     "output_type": "display_data"
    }
   ],
   "source": [
    "knn = KNeighborsClassifier(n_neighbors = 6)\n",
    "knn.fit(X_train,y_train)\n",
    "y_predict_knn = knn.predict(X_test)\n",
    "print(accuracy_score(y_test, y_predict_knn))\n",
    "\n",
    "y_scores_knn = knn.predict_proba(X_test)\n",
    "auc_knn = roc_auc_score(y_test, y_scores_knn[:, 1])\n",
    "fpr_knn, tpr_knn, threshold_knn = roc_curve(y_test, y_scores_knn[:, 1])\n",
    "plt.plot(fpr_knn, tpr_knn, label=\"ROC curve\")\n",
    "plt.ylabel('True Positive Rate')\n",
    "plt.xlabel('False Positive Rate')\n",
    "plt.title('ROC Curve for KNN(k = 6)')"
   ]
  },
  {
   "cell_type": "markdown",
   "id": "fc777bc0-6d97-4913-b0bb-f2e44ada5063",
   "metadata": {},
   "source": [
    "After optimisation, the accuracy for the KNN model is 80%."
   ]
  },
  {
   "cell_type": "code",
   "execution_count": 19,
   "id": "4704ef3d-8fbb-42d2-b78a-f5fb93c89fc5",
   "metadata": {},
   "outputs": [
    {
     "data": {
      "image/png": "[encoded data removed]",
      "text/plain": [
       "<Figure size 800x600 with 1 Axes>"
      ]
     },
     "metadata": {},
     "output_type": "display_data"
    }
   ],
   "source": [
    "f1_knn = f1_score(y_test, y_predict_knn)\n",
    "print_confusion_matrix(confusion_matrix(y_test, y_predict_knn)) "
   ]
  },
  {
   "cell_type": "markdown",
   "id": "a8af197e-1e10-471e-9712-41cb67a651d9",
   "metadata": {},
   "source": [
    "## SVM"
   ]
  },
  {
   "cell_type": "code",
   "execution_count": 20,
   "id": "bdbc6de1-73d9-4fe1-9497-014e406da179",
   "metadata": {},
   "outputs": [
    {
     "name": "stdout",
     "output_type": "stream",
     "text": [
      "Results for SVM method:\n",
      "0.8514056224899599 0.8130841121495327\n"
     ]
    },
    {
     "data": {
      "image/png": "[encoded data removed]",
      "text/plain": [
       "<Figure size 800x600 with 1 Axes>"
      ]
     },
     "metadata": {},
     "output_type": "display_data"
    }
   ],
   "source": [
    "svm = SVC(random_state=42)\n",
    "svm.fit(X_train, y_train)\n",
    "y_predict_svm = svm.predict(X_test)\n",
    "print(\"Results for SVM method:\")\n",
    "print(svm.score(X_train, y_train), svm.score(X_test, y_test))\n",
    "cm_svm = confusion_matrix(y_test, y_predict_svm)\n",
    "print_confusion_matrix(cm_svm)"
   ]
  },
  {
   "cell_type": "markdown",
   "id": "089ae4b5-83cc-4f97-8e3c-631c0450b5b3",
   "metadata": {},
   "source": [
    "Output: Accuracy for training set is equal 85% and for test set- 81%. What is quite good score, but try now to optimization parameters"
   ]
  },
  {
   "cell_type": "code",
   "execution_count": null,
   "id": "8d5dae5a-62f5-4240-9314-e6f70822ff5a",
   "metadata": {},
   "outputs": [
    {
     "name": "stderr",
     "output_type": "stream",
     "text": [
      "C:\\Users\\diana\\PycharmProjects\\titanic\\.venv\\Lib\\site-packages\\numpy\\ma\\core.py:2881: RuntimeWarning: invalid value encountered in cast\n",
      "  _data = np.array(data, dtype=dtype, copy=copy,\n"
     ]
    }
   ],
   "source": [
    "NUM_TRIALS = 10\n",
    "\n",
    "parameters = {\n",
    "    'C': [1, 5, 10, 15, 20, 25],\n",
    "    'gamma': [1, 0.1, 0.001]\n",
    "}\n",
    "\n",
    "svm = SVC(random_state=42)\n",
    "non_nested_scores = np.zeros(NUM_TRIALS)\n",
    "nested_scores = np.zeros(NUM_TRIALS)\n",
    "best_params = np.zeros((NUM_TRIALS, 2))\n",
    "\n",
    "# Loop for each trial\n",
    "for i in range(NUM_TRIALS):\n",
    "    # Choose cross-validation techniques for the inner and outer loops,\n",
    "    # independently of the dataset.\n",
    "    # E.g \"GroupKFold\", \"LeaveOneOut\", \"LeaveOneGroupOut\", etc.\n",
    "    inner_cv = KFold(n_splits=4, shuffle=True, random_state=i)\n",
    "    outer_cv = KFold(n_splits=4, shuffle=True, random_state=i)\n",
    "\n",
    "    # Nested CV with parameter optimization\n",
    "    clf_gs = GridSearchCV(estimator=svm, param_grid=parameters, cv=inner_cv)\n",
    "    nested_score = cross_val_score(clf_gs, X=X_train, y=y_train, cv=outer_cv)\n",
    "    nested_scores[i] = nested_score.mean()\n",
    "    params = clf_gs.fit(X_train, y_train).best_params_\n",
    "    best_params[i, 0] = params['C']\n",
    "    best_params[i, 1] = params['gamma']\n",
    "\n",
    "print(best_params)\n",
    "# svm = SVC(random_state=42)\n",
    "# best_param = GridSearchCV(svm, parameters)\n",
    "# best_param.fit(X_train, y_train)\n",
    "# print(best_param.best_params_)"
   ]
  },
  {
   "cell_type": "code",
   "execution_count": null,
   "id": "c4ddbc7a-63f8-4e13-8521-fa03b738b91b",
   "metadata": {},
   "outputs": [],
   "source": [
    "# print(best_params, nested_scores)\n",
    "best_parameters_for_svm = pd.DataFrame(best_params, columns=['C', 'gamma'])\n",
    "best_parameters_for_svm['score'] = pd.DataFrame(nested_scores)\n",
    "best_parameters_for_svm = best_parameters_for_svm.sort_values(by='score', ascending=False)\n",
    "best_parameters_for_svm"
   ]
  },
  {
   "cell_type": "markdown",
   "id": "ffee3e60-779e-461d-8367-32d199da308b",
   "metadata": {},
   "source": [
    "There isn't big difference in score depending on the parameter 'C'. I choose values for 'C' 10 and for 'gamma' 0.1. \n",
    "Now, let's examine the confusion matrix."
   ]
  },
  {
   "cell_type": "code",
   "execution_count": null,
   "id": "3c5eb9a4-5ef5-48eb-8f0d-01fbb4b2addb",
   "metadata": {},
   "outputs": [],
   "source": [
    "svm = SVC(random_state=41, C=10, gamma=0.1)\n",
    "svm.fit(X_train, y_train)\n",
    "y_predict_svm = svm.predict(X_test)\n",
    "print(\"Results for SVM method:\")\n",
    "print(svm.score(X_train, y_train), svm.score(X_test, y_test))\n",
    "cm_svm = confusion_matrix(y_test, y_predict_svm)\n",
    "print_confusion_matrix(confusion_matrix(y_test, y_predict_knn)) "
   ]
  },
  {
   "cell_type": "code",
   "execution_count": null,
   "id": "298a12ba-47fa-420a-a234-4cf4f3ac37fa",
   "metadata": {},
   "outputs": [],
   "source": [
    "# data for roc curve at the end\n",
    "clf_svm = SVC(probability=True, random_state=42, C=10, gamma=0.1)\n",
    "clf_svm.fit(X_train,y_train)\n",
    "y_predict_svm = clf_svm.predict(X_test)\n",
    "y_scores_svm = clf_svm.predict_proba(X_test)\n",
    "auc_svm = roc_auc_score(y_test, y_scores_svm[:, 1])\n",
    "fpr_svm, tpr_svm, threshold_svm = roc_curve(y_test, y_scores_svm[:, 1])\n",
    "f1_svm = f1_score(y_test, y_predict_svm)"
   ]
  },
  {
   "cell_type": "markdown",
   "id": "b64b7093-9b31-4749-8b52-0e004ec8e2c2",
   "metadata": {},
   "source": [
    "## Decision tree"
   ]
  },
  {
   "cell_type": "code",
   "execution_count": null,
   "id": "adb5f1b9-5f46-4ff4-8145-de249a40f8ec",
   "metadata": {},
   "outputs": [],
   "source": [
    "tree_clf = tree.DecisionTreeClassifier(random_state=41)\n",
    "tree_clf = tree_clf.fit(X_train, y_train)\n",
    "y_predict_tree = tree_clf.predict(X_test)\n",
    "print(\"Output for decision tree:\")\n",
    "print(tree_clf.score(X_train, y_train), tree_clf.score(X_test, y_test))\n",
    "print_confusion_matrix(confusion_matrix(y_test, y_predict_tree))"
   ]
  },
  {
   "cell_type": "markdown",
   "id": "b0838780-6465-4c0f-8e52-5e47a5497d37",
   "metadata": {},
   "source": [
    "Accuracy for training set is equal 98% and for test set- 74%. This mean that model is overfitted"
   ]
  },
  {
   "cell_type": "code",
   "execution_count": null,
   "id": "06693984-4eb1-4840-adc3-f9c69db18b06",
   "metadata": {},
   "outputs": [],
   "source": [
    "tree.plot_tree(tree_clf)\n",
    "plt.show()"
   ]
  },
  {
   "cell_type": "markdown",
   "id": "b05e7aca-c1ce-4360-b940-ee009e42eeee",
   "metadata": {},
   "source": [
    "Looking at the graph is understandable, because it was created too many leafs."
   ]
  },
  {
   "cell_type": "code",
   "execution_count": null,
   "id": "114fe6b1-7d34-41fa-87eb-3b5a016e6cc5",
   "metadata": {},
   "outputs": [],
   "source": [
    "best_tree = [0, 0]\n",
    "train_accuracies = []\n",
    "test_accuracies = []\n",
    "depth = [2, 3, 4, 5, 6, 7, 8]\n",
    "\n",
    "for i in depth:\n",
    "    tree_clf = tree.DecisionTreeClassifier(random_state=41, max_depth=i)\n",
    "    tree_clf = tree_clf.fit(X_train, y_train)\n",
    "    train_accuracy = tree_clf.score(X_train, y_train)\n",
    "    y_predict_tree = tree_clf.predict(X_test)\n",
    "    test_accuracy = tree_clf.score(X_test, y_test)\n",
    "    if test_accuracy > best_tree[0]:\n",
    "        best_tree[0] = test_accuracy\n",
    "        best_tree[1] = i\n",
    "    print(f\"Output for decision tree that has max_depth = {i}:\")\n",
    "    print(tree_clf.score(X_train, y_train), test_accuracy)\n",
    "\n",
    "    train_accuracies.append(train_accuracy)\n",
    "    test_accuracies.append(test_accuracy)\n",
    "\n",
    "print(f\"The highest accuracy for testing set is for model with \"\n",
    "      f\"max_depth = {best_tree[1]} and it is equal: {best_tree[0]})\")\n",
    "\n",
    "plt.plot(depth, train_accuracies, label='Train Accuracy', marker='o')\n",
    "plt.plot(depth, test_accuracies, label='Test Accuracy', marker='o')\n",
    "plt.xlabel(\"Max Depth\")\n",
    "plt.ylabel(\"Accuracy\")\n",
    "plt.title(\"Decision Tree Accuracy vs Max Depth\")\n",
    "plt.legend()\n",
    "plt.grid(True)\n",
    "plt.show()"
   ]
  },
  {
   "cell_type": "markdown",
   "id": "2580f2a2-5cc3-4620-afad-82a295575474",
   "metadata": {},
   "source": [
    "The highest accuracy for testing dataset is when max_depth parameter is equal 4, what we can easily see in the graph above, and it is equal 81%."
   ]
  },
  {
   "cell_type": "code",
   "execution_count": null,
   "id": "c936a659-6813-4eaf-854a-89964ba78f6a",
   "metadata": {},
   "outputs": [],
   "source": [
    "# data for roc curve at the end\n",
    "tree_clf = tree.DecisionTreeClassifier(random_state=41, max_depth=4)\n",
    "tree_clf = tree_clf.fit(X_train, y_train)\n",
    "y_predict_tree = tree_clf.predict(X_test)\n",
    "y_scores_tree = tree_clf.predict_proba(X_test)\n",
    "auc_tree = roc_auc_score(y_test, y_scores_tree[:, 1])\n",
    "fpr_tree, tpr_tree, threshold_tree = roc_curve(y_test, y_scores_tree[:, 1])\n",
    "f1_tree = f1_score(y_test, y_predict_tree)"
   ]
  },
  {
   "cell_type": "markdown",
   "id": "5285ae85-66e7-44df-9f26-154fd68a9824",
   "metadata": {},
   "source": [
    "## Random forest"
   ]
  },
  {
   "cell_type": "code",
   "execution_count": null,
   "id": "9747da57-b4fc-4fb1-bced-cfa49683fe64",
   "metadata": {},
   "outputs": [],
   "source": [
    "random_forest_clf = RandomForestClassifier(max_depth=3, random_state=41)\n",
    "random_forest_clf.fit(X_train, y_train)\n",
    "y_predict_random_forest = random_forest_clf.predict(X_test)\n",
    "print(\"Output for random forest:\")\n",
    "print(random_forest_clf.score(X_train, y_train), random_forest_clf.score(X_test, y_test))\n",
    "print_confusion_matrix(confusion_matrix(y_test, y_predict_random_forest))"
   ]
  },
  {
   "cell_type": "markdown",
   "id": "df4090c0-8d98-4c74-aa2e-93471738e29e",
   "metadata": {},
   "source": [
    "Currently, the model achieves 82% accuracy on the training set and 79% on the test set. "
   ]
  },
  {
   "cell_type": "code",
   "execution_count": null,
   "id": "c8f7527d-bdfb-40a5-9cdd-fbaece0503e3",
   "metadata": {},
   "outputs": [],
   "source": [
    "rf_params = {'n_estimators': [50, 100],\n",
    "             'max_depth': [2, 3, 4, 5, 6]}\n",
    "\n",
    "cv_rf = KFold(n_splits=4, shuffle=True, random_state=0)\n",
    "\n",
    "best_params_rf = GridSearchCV(random_forest_clf, rf_params,\n",
    "        return_train_score=True,\n",
    "        cv=cv_rf).fit(X_train, y_train)\n",
    "print(\"The best parameters found by GridSearchCV for random forest:\")\n",
    "print(best_params_rf.best_params_)\n",
    "print(best_params_rf.best_score_)\n",
    "best_random_forest_clf = RandomForestClassifier(max_depth=4, n_estimators=50, random_state=41)\n",
    "best_random_forest_clf.fit(X_train, y_train)\n",
    "y_predict_best_random_forest = best_random_forest_clf.predict(X_test)\n",
    "print(best_random_forest_clf.score(X_train, y_train), best_random_forest_clf.score(X_test, y_test))"
   ]
  },
  {
   "cell_type": "markdown",
   "id": "af0b162a-455c-4efe-b04a-4b03a6d7d086",
   "metadata": {},
   "source": [
    "With optimization, the model now reaches 85% accuracy on the training set and 80% on the test set."
   ]
  },
  {
   "cell_type": "code",
   "execution_count": null,
   "id": "e8793409-a288-4815-a518-8b07f86448c8",
   "metadata": {},
   "outputs": [],
   "source": [
    "# data for roc curve at the end\n",
    "clf_rf = RandomForestClassifier(max_depth=4, n_estimators=50, random_state=41)\n",
    "clr_rf = clf_rf.fit(X_train, y_train)\n",
    "y_predict_rf = clf_rf.predict(X_test)\n",
    "y_scores_rf = clf_rf.predict_proba(X_test)\n",
    "auc_rf = roc_auc_score(y_test, y_scores_rf[:, 1])\n",
    "fpr_rf, tpr_rf, threshold_rf = roc_curve(y_test, y_scores_rf[:, 1])\n",
    "f1_rf = f1_score(y_test, y_predict_rf)"
   ]
  },
  {
   "cell_type": "markdown",
   "id": "8e6ed531-00f2-4db8-bc8a-df09e1900d05",
   "metadata": {},
   "source": [
    "## Gradient boosting classifier"
   ]
  },
  {
   "cell_type": "code",
   "execution_count": null,
   "id": "f2610bb1-9ea4-4a72-acb2-b239594113bd",
   "metadata": {},
   "outputs": [],
   "source": [
    "gbc = GradientBoostingClassifier(max_depth=3, random_state=41)\n",
    "gbc.fit(X_train, y_train)\n",
    "y_predict_gbc = gbc.predict(X_test)\n",
    "print(\"Gradient Boosting Classifier\")\n",
    "print(\"Accuracy for training set and test set:\")\n",
    "print(gbc.score(X_train, y_train), gbc.score(X_test, y_test))"
   ]
  },
  {
   "cell_type": "markdown",
   "id": "3e2865cd-0c56-4bea-8183-357158ba24cf",
   "metadata": {},
   "source": [
    "Model probably is overfitted."
   ]
  },
  {
   "cell_type": "code",
   "execution_count": null,
   "id": "ce5d06af-fd2c-4210-9374-0b4e1236e62f",
   "metadata": {},
   "outputs": [],
   "source": [
    "gbc1 = GradientBoostingClassifier(max_depth=1, random_state=41)\n",
    "gbc1.fit(X_train, y_train)\n",
    "y_predict_gbc1 = gbc1.predict(X_test)\n",
    "print(\"Gradient Boosting Classifier\")\n",
    "print(\"Accuracy for training set and test set:\")\n",
    "print(gbc1.score(X_train, y_train), gbc1.score(X_test, y_test))"
   ]
  },
  {
   "cell_type": "code",
   "execution_count": null,
   "id": "29cd8a98-c719-44ff-a798-fe096fca6bef",
   "metadata": {},
   "outputs": [],
   "source": [
    "# data for roc curve at the end\n",
    "clf_gbc = GradientBoostingClassifier(max_depth=1, random_state=42)\n",
    "clf_gbc.fit(X_train, y_train)\n",
    "y_predict_gbc = clf_gbc.predict(X_test)\n",
    "y_scores_gbc = clf_gbc.predict_proba(X_test)\n",
    "auc_gbc = roc_auc_score(y_test, y_scores_gbc[:, 1])\n",
    "fpr_gbc, tpr_gbc, threshold_gbc = roc_curve(y_test, y_scores_gbc[:, 1])\n",
    "f1_gbc = f1_score(y_test, y_predict_gbc)"
   ]
  },
  {
   "cell_type": "markdown",
   "id": "63006dc1-8a8d-4c71-9019-d0ca118e5b0e",
   "metadata": {},
   "source": [
    "## Model comparison"
   ]
  },
  {
   "cell_type": "code",
   "execution_count": null,
   "id": "a927aeaf-5c69-421b-942b-1f35a2fe9324",
   "metadata": {},
   "outputs": [],
   "source": [
    "plt.plot(fpr_lr, tpr_lr, label='Logistic regression')\n",
    "plt.plot(fpr_knn, tpr_knn, label='KNN')\n",
    "plt.plot(fpr_svm, tpr_svm, label='SVM')\n",
    "plt.plot(fpr_tree, tpr_tree, label='Decision tree')\n",
    "plt.plot(fpr_rf, tpr_rf, label='Random forest')\n",
    "plt.plot(fpr_gbc, tpr_gbc, label='Gradient Boosting')\n",
    "plt.ylabel('True Positive Rate')\n",
    "plt.xlabel('False Positive Rate')\n",
    "plt.legend()\n",
    "plt.title('ROC Curve')"
   ]
  },
  {
   "cell_type": "code",
   "execution_count": null,
   "id": "1760d991-e7c6-4002-bfcf-0648688a03f0",
   "metadata": {},
   "outputs": [],
   "source": [
    "auc_scores = [['Linear regression',auc_lr], \n",
    "            ['KNN', auc_knn],\n",
    "            ['SVM', auc_svm],\n",
    "            ['Decision tree', auc_tree],\n",
    "            ['Random forest', auc_rf],\n",
    "            ['Gradient Boosting', auc_gbc]]\n",
    "auc_df = pd.DataFrame(auc_scores, columns=['Method', 'AUC'])\n",
    "auc_df = auc_df.sort_values(by='AUC', ascending=False)\n",
    "auc_df"
   ]
  },
  {
   "cell_type": "markdown",
   "id": "e3ecf9be-c3c1-4ce2-80e6-2b746469b49d",
   "metadata": {},
   "source": [
    "Looking at the table we see that the area under the graph is very similar in each method."
   ]
  },
  {
   "cell_type": "markdown",
   "id": "6567e394-6bcc-46bb-ab19-2e25f50177b4",
   "metadata": {},
   "source": [
    "Beyond AUC measure I can also use F1 score, which is the harmonic mean of precision and recall."
   ]
  },
  {
   "cell_type": "code",
   "execution_count": null,
   "id": "de621056-8312-4b2c-8e60-cc2dcda89930",
   "metadata": {},
   "outputs": [],
   "source": [
    "f1_scores = [f1_lr, f1_knn, f1_svm, f1_tree, f1_rf, f1_gbc]\n",
    "f1_scores = pd.DataFrame(f1_scores, columns=['F1 score'], \n",
    "                         index=['Linear regression', 'KNN', 'SVM', 'Decision tree', 'Random forest', 'Gradient boost'])\n",
    "f1_scores = f1_scores.sort_values(by='F1 score', ascending=False)\n",
    "f1_scores"
   ]
  },
  {
   "cell_type": "markdown",
   "id": "4b30602f-55a9-492d-9edb-81e5dcfe6b92",
   "metadata": {},
   "source": [
    "Also f1 scores are similar.\n",
    "In summary, the best methods are K-nearest neighbours and Gradient boost."
   ]
  },
  {
   "cell_type": "code",
   "execution_count": null,
   "id": "9c349e2a-9519-4bda-9310-0235a7658073",
   "metadata": {},
   "outputs": [],
   "source": []
  }
 ],
 "metadata": {
  "kernelspec": {
   "display_name": "Python 3 (ipykernel)",
   "language": "python",
   "name": "python3"
  },
  "language_info": {
   "codemirror_mode": {
    "name": "ipython",
    "version": 3
   },
   "file_extension": ".py",
   "mimetype": "text/x-python",
   "name": "python",
   "nbconvert_exporter": "python",
   "pygments_lexer": "ipython3",
   "version": "3.11.9"
  }
 },
 "nbformat": 4,
 "nbformat_minor": 5
}
